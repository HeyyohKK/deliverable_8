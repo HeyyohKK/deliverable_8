{
  "nbformat": 4,
  "nbformat_minor": 0,
  "metadata": {
    "colab": {
      "provenance": []
    },
    "kernelspec": {
      "name": "python3",
      "display_name": "Python 3"
    },
    "language_info": {
      "name": "python"
    }
  },
  "cells": [
    {
      "cell_type": "code",
      "execution_count": 1,
      "metadata": {
        "colab": {
          "base_uri": "https://localhost:8080/"
        },
        "id": "8w0Ux303hgjk",
        "outputId": "71af5d2a-ab1b-49eb-c2a8-07b11afd57ae"
      },
      "outputs": [
        {
          "output_type": "stream",
          "name": "stdout",
          "text": [
            "Enter a number between 5 and 15: 8\n",
            "Random List: [13, 48, 22, 31, 24, 27, 28, 36]\n",
            "Sum of List Elements: 229\n"
          ]
        }
      ],
      "source": [
        "import random\n",
        "\n",
        "# Method 1: generate a list of random integers between 10 and 50\n",
        "def generate_random_list(length):\n",
        "    return [random.randint(10, 50) for _ in range(length)]\n",
        "\n",
        "# Method 2: sum all the elements in a list\n",
        "def sum_list(lst):\n",
        "    return sum(lst)\n",
        "\n",
        "# Ask user to enter a number between 5 and 15\n",
        "user_input = int(input(\"Enter a number between 5 and 15: \"))\n",
        "\n",
        "# Check if user input is valid\n",
        "if user_input >= 5 and user_input <= 15:\n",
        "    # Generate a random list of length equal to user input\n",
        "    random_list = generate_random_list(user_input)\n",
        "    \n",
        "    # Display the random list\n",
        "    print(\"Random List:\", random_list)\n",
        "    \n",
        "    # Sum the elements in the random list\n",
        "    list_sum = sum_list(random_list)\n",
        "    \n",
        "    # Display the sum of the elements in the random list\n",
        "    print(\"Sum of List Elements:\", list_sum)\n",
        "else:\n",
        "    print(\"Invalid input. Please enter a number between 5 and 15.\")\n"
      ]
    }
  ]
}